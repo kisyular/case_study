{
 "cells": [
  {
   "cell_type": "markdown",
   "id": "4a47c28f",
   "metadata": {},
   "source": [
    "# XGBoost for Classification Problem\n",
    "Dataset: `bc_data.csv`\n",
    "\n",
    "In this problem, we are predicting if a sample of tissues is cancerous (yes) or not (no). THe response variable is named outcome."
   ]
  },
  {
   "cell_type": "markdown",
   "id": "504c1127",
   "metadata": {},
   "source": [
    "## Step 0 — Load Data and EDA (we skip for now)"
   ]
  },
  {
   "cell_type": "code",
   "execution_count": 1,
   "id": "9ba62e72",
   "metadata": {},
   "outputs": [],
   "source": [
    "# Imports\n",
    "import os\n",
    "import numpy as np\n",
    "import pandas as pd\n",
    "\n",
    "# Modeling\n",
    "# train_test_split:   splits data into training and testing subsets\n",
    "# KFold:              defines cross-validation folds (e.g., 5-fold CV)\n",
    "from sklearn.model_selection import train_test_split, StratifiedKFold\n",
    "\n",
    "# Pipeline:           chains preprocessing steps (scaling, encoding, model) into one object\n",
    "#                     ensures consistent transformations during training and prediction\n",
    "from sklearn.pipeline import Pipeline\n",
    "\n",
    "#GridSearchCV:     provides the cv engine for trees which do not have one built in\n",
    "from sklearn.model_selection import GridSearchCV\n",
    "\n",
    "from sklearn.ensemble import RandomForestClassifier\n",
    "\n",
    "# Metrics:               roc_auc_score gives a single number (AUC) to summarize model performance\n",
    "#                        roc_curve gives the points to plot the ROC curve\n",
    "from sklearn.metrics import roc_auc_score, roc_curve\n",
    "import matplotlib.pyplot as plt  \n",
    "\n",
    "#!pip install xgboost if not installed\n",
    "from xgboost import XGBClassifier\n",
    "# Reproducibility seeds\n",
    "np.random.seed(87)  # used for train/test split"
   ]
  },
  {
   "cell_type": "code",
   "execution_count": 19,
   "id": "3ce5f397",
   "metadata": {},
   "outputs": [
    {
     "data": {
      "text/plain": [
       "(600, 10)"
      ]
     },
     "execution_count": 19,
     "metadata": {},
     "output_type": "execute_result"
    }
   ],
   "source": [
    "# Expect the file to be in the same folder as this notebook\n",
    "df = pd.read_csv('bc_data.csv' )\n",
    "df.shape"
   ]
  },
  {
   "cell_type": "code",
   "execution_count": 20,
   "id": "fc89d3e7",
   "metadata": {},
   "outputs": [
    {
     "data": {
      "text/html": [
       "<div>\n",
       "<style scoped>\n",
       "    .dataframe tbody tr th:only-of-type {\n",
       "        vertical-align: middle;\n",
       "    }\n",
       "\n",
       "    .dataframe tbody tr th {\n",
       "        vertical-align: top;\n",
       "    }\n",
       "\n",
       "    .dataframe thead th {\n",
       "        text-align: right;\n",
       "    }\n",
       "</style>\n",
       "<table border=\"1\" class=\"dataframe\">\n",
       "  <thead>\n",
       "    <tr style=\"text-align: right;\">\n",
       "      <th></th>\n",
       "      <th>Thickness_of_Clump</th>\n",
       "      <th>Cell_Size_Uniformity</th>\n",
       "      <th>Cell_Shape_Uniformity</th>\n",
       "      <th>Marginal_Adhesion</th>\n",
       "      <th>Single_Epithelial_Cell_Size</th>\n",
       "      <th>Bare_Nuclei</th>\n",
       "      <th>Bland_Chromatin</th>\n",
       "      <th>Normal_Nucleoli</th>\n",
       "      <th>Mitoses</th>\n",
       "      <th>Outcome</th>\n",
       "    </tr>\n",
       "  </thead>\n",
       "  <tbody>\n",
       "    <tr>\n",
       "      <th>count</th>\n",
       "      <td>600.000000</td>\n",
       "      <td>600.000000</td>\n",
       "      <td>600.000000</td>\n",
       "      <td>600.000000</td>\n",
       "      <td>600.000000</td>\n",
       "      <td>600.000000</td>\n",
       "      <td>600.000000</td>\n",
       "      <td>600.000000</td>\n",
       "      <td>600.000000</td>\n",
       "      <td>600</td>\n",
       "    </tr>\n",
       "    <tr>\n",
       "      <th>unique</th>\n",
       "      <td>NaN</td>\n",
       "      <td>NaN</td>\n",
       "      <td>NaN</td>\n",
       "      <td>NaN</td>\n",
       "      <td>NaN</td>\n",
       "      <td>NaN</td>\n",
       "      <td>NaN</td>\n",
       "      <td>NaN</td>\n",
       "      <td>NaN</td>\n",
       "      <td>2</td>\n",
       "    </tr>\n",
       "    <tr>\n",
       "      <th>top</th>\n",
       "      <td>NaN</td>\n",
       "      <td>NaN</td>\n",
       "      <td>NaN</td>\n",
       "      <td>NaN</td>\n",
       "      <td>NaN</td>\n",
       "      <td>NaN</td>\n",
       "      <td>NaN</td>\n",
       "      <td>NaN</td>\n",
       "      <td>NaN</td>\n",
       "      <td>No</td>\n",
       "    </tr>\n",
       "    <tr>\n",
       "      <th>freq</th>\n",
       "      <td>NaN</td>\n",
       "      <td>NaN</td>\n",
       "      <td>NaN</td>\n",
       "      <td>NaN</td>\n",
       "      <td>NaN</td>\n",
       "      <td>NaN</td>\n",
       "      <td>NaN</td>\n",
       "      <td>NaN</td>\n",
       "      <td>NaN</td>\n",
       "      <td>380</td>\n",
       "    </tr>\n",
       "    <tr>\n",
       "      <th>mean</th>\n",
       "      <td>5.410000</td>\n",
       "      <td>4.121667</td>\n",
       "      <td>4.195000</td>\n",
       "      <td>3.763333</td>\n",
       "      <td>4.293333</td>\n",
       "      <td>4.500000</td>\n",
       "      <td>4.495000</td>\n",
       "      <td>3.811667</td>\n",
       "      <td>2.093333</td>\n",
       "      <td>NaN</td>\n",
       "    </tr>\n",
       "    <tr>\n",
       "      <th>std</th>\n",
       "      <td>2.798503</td>\n",
       "      <td>2.936194</td>\n",
       "      <td>2.926531</td>\n",
       "      <td>2.782726</td>\n",
       "      <td>2.279462</td>\n",
       "      <td>3.476129</td>\n",
       "      <td>2.438555</td>\n",
       "      <td>3.031751</td>\n",
       "      <td>1.763464</td>\n",
       "      <td>NaN</td>\n",
       "    </tr>\n",
       "    <tr>\n",
       "      <th>min</th>\n",
       "      <td>1.000000</td>\n",
       "      <td>1.000000</td>\n",
       "      <td>1.000000</td>\n",
       "      <td>1.000000</td>\n",
       "      <td>1.000000</td>\n",
       "      <td>1.000000</td>\n",
       "      <td>1.000000</td>\n",
       "      <td>1.000000</td>\n",
       "      <td>1.000000</td>\n",
       "      <td>NaN</td>\n",
       "    </tr>\n",
       "    <tr>\n",
       "      <th>25%</th>\n",
       "      <td>3.000000</td>\n",
       "      <td>2.000000</td>\n",
       "      <td>2.000000</td>\n",
       "      <td>2.000000</td>\n",
       "      <td>3.000000</td>\n",
       "      <td>2.000000</td>\n",
       "      <td>3.000000</td>\n",
       "      <td>2.000000</td>\n",
       "      <td>1.000000</td>\n",
       "      <td>NaN</td>\n",
       "    </tr>\n",
       "    <tr>\n",
       "      <th>50%</th>\n",
       "      <td>5.000000</td>\n",
       "      <td>3.000000</td>\n",
       "      <td>3.000000</td>\n",
       "      <td>3.000000</td>\n",
       "      <td>4.000000</td>\n",
       "      <td>3.000000</td>\n",
       "      <td>4.000000</td>\n",
       "      <td>3.000000</td>\n",
       "      <td>2.000000</td>\n",
       "      <td>NaN</td>\n",
       "    </tr>\n",
       "    <tr>\n",
       "      <th>75%</th>\n",
       "      <td>7.250000</td>\n",
       "      <td>6.000000</td>\n",
       "      <td>6.000000</td>\n",
       "      <td>5.000000</td>\n",
       "      <td>5.000000</td>\n",
       "      <td>9.000000</td>\n",
       "      <td>6.000000</td>\n",
       "      <td>5.000000</td>\n",
       "      <td>2.000000</td>\n",
       "      <td>NaN</td>\n",
       "    </tr>\n",
       "    <tr>\n",
       "      <th>max</th>\n",
       "      <td>10.000000</td>\n",
       "      <td>10.000000</td>\n",
       "      <td>10.000000</td>\n",
       "      <td>10.000000</td>\n",
       "      <td>10.000000</td>\n",
       "      <td>10.000000</td>\n",
       "      <td>10.000000</td>\n",
       "      <td>10.000000</td>\n",
       "      <td>10.000000</td>\n",
       "      <td>NaN</td>\n",
       "    </tr>\n",
       "  </tbody>\n",
       "</table>\n",
       "</div>"
      ],
      "text/plain": [
       "        Thickness_of_Clump  Cell_Size_Uniformity  Cell_Shape_Uniformity  \\\n",
       "count           600.000000            600.000000             600.000000   \n",
       "unique                 NaN                   NaN                    NaN   \n",
       "top                    NaN                   NaN                    NaN   \n",
       "freq                   NaN                   NaN                    NaN   \n",
       "mean              5.410000              4.121667               4.195000   \n",
       "std               2.798503              2.936194               2.926531   \n",
       "min               1.000000              1.000000               1.000000   \n",
       "25%               3.000000              2.000000               2.000000   \n",
       "50%               5.000000              3.000000               3.000000   \n",
       "75%               7.250000              6.000000               6.000000   \n",
       "max              10.000000             10.000000              10.000000   \n",
       "\n",
       "        Marginal_Adhesion  Single_Epithelial_Cell_Size  Bare_Nuclei  \\\n",
       "count          600.000000                   600.000000   600.000000   \n",
       "unique                NaN                          NaN          NaN   \n",
       "top                   NaN                          NaN          NaN   \n",
       "freq                  NaN                          NaN          NaN   \n",
       "mean             3.763333                     4.293333     4.500000   \n",
       "std              2.782726                     2.279462     3.476129   \n",
       "min              1.000000                     1.000000     1.000000   \n",
       "25%              2.000000                     3.000000     2.000000   \n",
       "50%              3.000000                     4.000000     3.000000   \n",
       "75%              5.000000                     5.000000     9.000000   \n",
       "max             10.000000                    10.000000    10.000000   \n",
       "\n",
       "        Bland_Chromatin  Normal_Nucleoli     Mitoses Outcome  \n",
       "count        600.000000       600.000000  600.000000     600  \n",
       "unique              NaN              NaN         NaN       2  \n",
       "top                 NaN              NaN         NaN      No  \n",
       "freq                NaN              NaN         NaN     380  \n",
       "mean           4.495000         3.811667    2.093333     NaN  \n",
       "std            2.438555         3.031751    1.763464     NaN  \n",
       "min            1.000000         1.000000    1.000000     NaN  \n",
       "25%            3.000000         2.000000    1.000000     NaN  \n",
       "50%            4.000000         3.000000    2.000000     NaN  \n",
       "75%            6.000000         5.000000    2.000000     NaN  \n",
       "max           10.000000        10.000000   10.000000     NaN  "
      ]
     },
     "execution_count": 20,
     "metadata": {},
     "output_type": "execute_result"
    }
   ],
   "source": [
    "df.describe(include='all')"
   ]
  },
  {
   "cell_type": "code",
   "execution_count": 21,
   "id": "a2b4ecfc",
   "metadata": {},
   "outputs": [
    {
     "data": {
      "text/plain": [
       "Outcome\n",
       "No     380\n",
       "Yes    220\n",
       "Name: count, dtype: int64"
      ]
     },
     "execution_count": 21,
     "metadata": {},
     "output_type": "execute_result"
    }
   ],
   "source": [
    "df['Outcome'].value_counts()# summary stats"
   ]
  },
  {
   "cell_type": "code",
   "execution_count": 22,
   "id": "821fecf6",
   "metadata": {},
   "outputs": [
    {
     "data": {
      "text/plain": [
       "((420, 9), (180, 9))"
      ]
     },
     "execution_count": 22,
     "metadata": {},
     "output_type": "execute_result"
    }
   ],
   "source": [
    "# Turn categorical variables into dummy (0/1) columns\n",
    "X = pd.get_dummies(df.drop(columns=[\"Outcome\"]), drop_first=True)  \n",
    "\n",
    "# Target variable\n",
    "Y = df[\"Outcome\"]\n",
    "\n",
    "# Split into train/test sets\n",
    "X_train, X_test, Y_train, Y_test = train_test_split(\n",
    "    X, Y, \n",
    "    test_size=0.3,     # 30% test, 70% train\n",
    "    random_state=99,   # reproducibility\n",
    "    shuffle=True       # shuffle before splitting\n",
    ")\n",
    "\n",
    "# Check shapes\n",
    "X_train.shape, X_test.shape"
   ]
  },
  {
   "cell_type": "code",
   "execution_count": 23,
   "id": "3d794f69",
   "metadata": {},
   "outputs": [
    {
     "data": {
      "text/plain": [
       "array(['No', 'Yes'], dtype=object)"
      ]
     },
     "execution_count": 23,
     "metadata": {},
     "output_type": "execute_result"
    }
   ],
   "source": [
    "# Determine classes and ordering\n",
    "classes = pd.unique(pd.Series(Y_train).dropna())\n",
    "classes"
   ]
  },
  {
   "cell_type": "code",
   "execution_count": 24,
   "id": "49f9f0d3",
   "metadata": {},
   "outputs": [],
   "source": [
    "# Convert to 0,1 for XGBoost \n",
    "mapping = {c: int(c == \"Yes\") for c in classes}\n",
    "\n",
    "Y_train = pd.Series(Y_train).map(mapping).to_numpy()\n",
    "Y_test = pd.Series(Y_test).map(mapping).to_numpy()"
   ]
  },
  {
   "cell_type": "code",
   "execution_count": 25,
   "id": "38e03446",
   "metadata": {},
   "outputs": [
    {
     "name": "stdout",
     "output_type": "stream",
     "text": [
      "Positive class used by AUC: 1\n",
      "Best params selected by CV: {'model__colsample_bytree': 1.0, 'model__learning_rate': 0.05, 'model__max_depth': 4, 'model__min_child_weight': 3, 'model__n_estimators': 400, 'model__subsample': 0.8}\n",
      "Best CV ROC-AUC: 0.99\n"
     ]
    }
   ],
   "source": [
    "\n",
    "# 1) CV split (same as before)\n",
    "cv = StratifiedKFold(n_splits=5, shuffle=True, random_state=10)\n",
    "\n",
    "\n",
    "# 3) Pipeline with XGBoost model\n",
    "xgb_pipe = Pipeline([\n",
    "    (\"model\", XGBClassifier(\n",
    "        objective=\"binary:logistic\",\n",
    "        n_jobs=-1,          # use all cores\n",
    "        eval_metric=\"auc\",  # pairs well with scoring=\"roc_auc\"\n",
    "        tree_method=\"hist\", # fast CPU histogram algorithm (use \"gpu_hist\" if you have a GPU)\n",
    "        random_state=99\n",
    "    ))\n",
    "])\n",
    "\n",
    "# 4) Hyperparameter grid (reasonable, compact search)\n",
    "param_grid = {\n",
    "    \"model__n_estimators\": [400, 800],\n",
    "    \"model__max_depth\":    [4, 6, 8],\n",
    "    \"model__learning_rate\":[0.05, 0.1],\n",
    "    \"model__subsample\":    [0.8, 1.0],\n",
    "    \"model__colsample_bytree\": [0.8, 1.0],\n",
    "    \"model__min_child_weight\": [1, 3]\n",
    "}\n",
    "\n",
    "# 5) Cross-validated grid search (same scoring)\n",
    "xgb_cv = GridSearchCV(\n",
    "    estimator=xgb_pipe,\n",
    "    param_grid=param_grid,\n",
    "    cv=cv,\n",
    "    scoring=\"roc_auc\",\n",
    "    n_jobs=-1,\n",
    "    refit=True\n",
    ")\n",
    "\n",
    "# 6) Fit with per-sample weights\n",
    "xgb_cv.fit(X_train, Y_train)\n",
    "\n",
    "print(\"Positive class used by AUC:\", xgb_cv.best_estimator_.named_steps[\"model\"].classes_[1])\n",
    "print(\"Best params selected by CV:\", xgb_cv.best_params_)\n",
    "print(\"Best CV ROC-AUC:\", round(xgb_cv.best_score_, 3))"
   ]
  },
  {
   "cell_type": "code",
   "execution_count": 26,
   "id": "64b5719b",
   "metadata": {},
   "outputs": [
    {
     "name": "stdout",
     "output_type": "stream",
     "text": [
      "                       feature  importance\n",
      "1         Cell_Size_Uniformity    0.358867\n",
      "5                  Bare_Nuclei    0.288858\n",
      "2        Cell_Shape_Uniformity    0.180413\n",
      "7              Normal_Nucleoli    0.047688\n",
      "0           Thickness_of_Clump    0.038595\n",
      "6              Bland_Chromatin    0.037811\n",
      "8                      Mitoses    0.022255\n",
      "3            Marginal_Adhesion    0.013014\n",
      "4  Single_Epithelial_Cell_Size    0.012499\n"
     ]
    },
    {
     "data": {
      "text/plain": [
       "<Figure size 800x600 with 0 Axes>"
      ]
     },
     "metadata": {},
     "output_type": "display_data"
    },
    {
     "data": {
      "image/png": "[encoded data removed]",
      "text/plain": [
       "<Figure size 640x480 with 1 Axes>"
      ]
     },
     "metadata": {},
     "output_type": "display_data"
    }
   ],
   "source": [
    "# Get best fitted model from GridSearchCV\n",
    "best_xgb = xgb_cv.best_estimator_.named_steps[\"model\"]\n",
    "\n",
    "# Get feature importances (aligned with columns of X_train)\n",
    "importances = best_xgb.feature_importances_\n",
    "features = X_train.columns\n",
    "\n",
    "# Put in DataFrame for clarity\n",
    "feat_imp = pd.DataFrame({\n",
    "    \"feature\": features,\n",
    "    \"importance\": importances\n",
    "}).sort_values(by=\"importance\", ascending=False)\n",
    "\n",
    "print(feat_imp.head(15))  # top 15 features\n",
    "\n",
    "# Optional: plot top features\n",
    "import matplotlib.pyplot as plt\n",
    "\n",
    "plt.figure(figsize=(8,6))\n",
    "feat_imp.head(15).plot(kind=\"barh\", x=\"feature\", y=\"importance\", legend=False)\n",
    "plt.title(\"Top 15 Random Forest Feature Importances\")\n",
    "plt.gca().invert_yaxis()\n",
    "plt.show()\n"
   ]
  },
  {
   "cell_type": "code",
   "execution_count": 27,
   "id": "629929ef",
   "metadata": {},
   "outputs": [
    {
     "name": "stdout",
     "output_type": "stream",
     "text": [
      "Class order: [0 1]\n"
     ]
    }
   ],
   "source": [
    "#determine class order of your response variable\n",
    "classes = xgb_cv.best_estimator_.named_steps[\"model\"].classes_\n",
    "print(\"Class order:\", classes)"
   ]
  },
  {
   "cell_type": "code",
   "execution_count": 28,
   "id": "940af7d3",
   "metadata": {},
   "outputs": [],
   "source": [
    "\n",
    "pos_idx = list(classes).index(1)   #Put in the class you are trying to predict\n",
    "proba = xgb_cv.predict_proba(X_test)[:, pos_idx]"
   ]
  },
  {
   "cell_type": "code",
   "execution_count": 29,
   "id": "d3ee2488",
   "metadata": {},
   "outputs": [
    {
     "name": "stdout",
     "output_type": "stream",
     "text": [
      "ROC AUC (test): 0.981\n"
     ]
    },
    {
     "data": {
      "image/png": "[encoded data removed]",
      "text/plain": [
       "<Figure size 640x480 with 1 Axes>"
      ]
     },
     "metadata": {},
     "output_type": "display_data"
    }
   ],
   "source": [
    "# ROC curve + AUC (tell roc_curve which label is positive)\n",
    "pos_label=1 \n",
    "fpr, tpr, _ = roc_curve(Y_test, proba, pos_label=pos_label)\n",
    "roc_auc = roc_auc_score((Y_test == pos_label).astype(int), proba)\n",
    "print(f\"ROC AUC (test): {roc_auc:.3f}\")\n",
    "plt.plot(fpr, tpr)\n",
    "plt.plot([0,1],[0,1],'--')\n",
    "plt.xlabel(\"False Positive Rate\")\n",
    "plt.ylabel(\"True Positive Rate\")\n",
    "plt.title(\"ROC Curve (Random Forest)\")\n",
    "plt.show()"
   ]
  },
  {
   "cell_type": "code",
   "execution_count": 30,
   "id": "eb541a1e",
   "metadata": {},
   "outputs": [
    {
     "ename": "ImportError",
     "evalue": "Numba needs NumPy 2.2 or less. Got NumPy 2.3.",
     "output_type": "error",
     "traceback": [
      "\u001b[31m---------------------------------------------------------------------------\u001b[39m",
      "\u001b[31mImportError\u001b[39m                               Traceback (most recent call last)",
      "\u001b[36mCell\u001b[39m\u001b[36m \u001b[39m\u001b[32mIn[30]\u001b[39m\u001b[32m, line 2\u001b[39m\n\u001b[32m      1\u001b[39m \u001b[38;5;66;03m#!pip install shap   # Install SHAP library if not already installed\u001b[39;00m\n\u001b[32m----> \u001b[39m\u001b[32m2\u001b[39m \u001b[38;5;28;01mimport\u001b[39;00m\u001b[38;5;250m \u001b[39m\u001b[34;01mshap\u001b[39;00m          \n\u001b[32m      4\u001b[39m \u001b[38;5;66;03m# Create SHAP explainer for tree-based models (e.g., XGBoost, LightGBM, RandomForest)\u001b[39;00m\n\u001b[32m      5\u001b[39m explainer   = shap.TreeExplainer(best_xgb)\n",
      "\u001b[36mFile \u001b[39m\u001b[32m/opt/anaconda3/envs/predictive/lib/python3.11/site-packages/shap/__init__.py:1\u001b[39m\n\u001b[32m----> \u001b[39m\u001b[32m1\u001b[39m \u001b[38;5;28;01mfrom\u001b[39;00m\u001b[38;5;250m \u001b[39m\u001b[34;01m.\u001b[39;00m\u001b[34;01m_explanation\u001b[39;00m\u001b[38;5;250m \u001b[39m\u001b[38;5;28;01mimport\u001b[39;00m Cohorts, Explanation\n\u001b[32m      3\u001b[39m \u001b[38;5;66;03m# explainers\u001b[39;00m\n\u001b[32m      4\u001b[39m \u001b[38;5;28;01mfrom\u001b[39;00m\u001b[38;5;250m \u001b[39m\u001b[34;01m.\u001b[39;00m\u001b[34;01mexplainers\u001b[39;00m\u001b[38;5;250m \u001b[39m\u001b[38;5;28;01mimport\u001b[39;00m other\n",
      "\u001b[36mFile \u001b[39m\u001b[32m/opt/anaconda3/envs/predictive/lib/python3.11/site-packages/shap/_explanation.py:16\u001b[39m\n\u001b[32m     13\u001b[39m \u001b[38;5;28;01mimport\u001b[39;00m\u001b[38;5;250m \u001b[39m\u001b[34;01msklearn\u001b[39;00m\n\u001b[32m     14\u001b[39m \u001b[38;5;28;01mfrom\u001b[39;00m\u001b[38;5;250m \u001b[39m\u001b[34;01mslicer\u001b[39;00m\u001b[38;5;250m \u001b[39m\u001b[38;5;28;01mimport\u001b[39;00m Alias, Obj, Slicer\n\u001b[32m---> \u001b[39m\u001b[32m16\u001b[39m \u001b[38;5;28;01mfrom\u001b[39;00m\u001b[38;5;250m \u001b[39m\u001b[34;01m.\u001b[39;00m\u001b[34;01mutils\u001b[39;00m\u001b[34;01m.\u001b[39;00m\u001b[34;01m_clustering\u001b[39;00m\u001b[38;5;250m \u001b[39m\u001b[38;5;28;01mimport\u001b[39;00m hclust_ordering\n\u001b[32m     17\u001b[39m \u001b[38;5;28;01mfrom\u001b[39;00m\u001b[38;5;250m \u001b[39m\u001b[34;01m.\u001b[39;00m\u001b[34;01mutils\u001b[39;00m\u001b[34;01m.\u001b[39;00m\u001b[34;01m_exceptions\u001b[39;00m\u001b[38;5;250m \u001b[39m\u001b[38;5;28;01mimport\u001b[39;00m DimensionError\n\u001b[32m     18\u001b[39m \u001b[38;5;28;01mfrom\u001b[39;00m\u001b[38;5;250m \u001b[39m\u001b[34;01m.\u001b[39;00m\u001b[34;01mutils\u001b[39;00m\u001b[34;01m.\u001b[39;00m\u001b[34;01m_general\u001b[39;00m\u001b[38;5;250m \u001b[39m\u001b[38;5;28;01mimport\u001b[39;00m OpChain\n",
      "\u001b[36mFile \u001b[39m\u001b[32m/opt/anaconda3/envs/predictive/lib/python3.11/site-packages/shap/utils/__init__.py:1\u001b[39m\n\u001b[32m----> \u001b[39m\u001b[32m1\u001b[39m \u001b[38;5;28;01mfrom\u001b[39;00m\u001b[38;5;250m \u001b[39m\u001b[34;01m.\u001b[39;00m\u001b[34;01m_clustering\u001b[39;00m\u001b[38;5;250m \u001b[39m\u001b[38;5;28;01mimport\u001b[39;00m (\n\u001b[32m      2\u001b[39m     delta_minimization_order,\n\u001b[32m      3\u001b[39m     hclust,\n\u001b[32m      4\u001b[39m     hclust_ordering,\n\u001b[32m      5\u001b[39m     partition_tree,\n\u001b[32m      6\u001b[39m     partition_tree_shuffle,\n\u001b[32m      7\u001b[39m )\n\u001b[32m      8\u001b[39m \u001b[38;5;28;01mfrom\u001b[39;00m\u001b[38;5;250m \u001b[39m\u001b[34;01m.\u001b[39;00m\u001b[34;01m_general\u001b[39;00m\u001b[38;5;250m \u001b[39m\u001b[38;5;28;01mimport\u001b[39;00m (\n\u001b[32m      9\u001b[39m     OpChain,\n\u001b[32m     10\u001b[39m     approximate_interactions,\n\u001b[32m   (...)\u001b[39m\u001b[32m     20\u001b[39m     suppress_stderr,\n\u001b[32m     21\u001b[39m )\n\u001b[32m     22\u001b[39m \u001b[38;5;28;01mfrom\u001b[39;00m\u001b[38;5;250m \u001b[39m\u001b[34;01m.\u001b[39;00m\u001b[34;01m_masked_model\u001b[39;00m\u001b[38;5;250m \u001b[39m\u001b[38;5;28;01mimport\u001b[39;00m MaskedModel, make_masks\n",
      "\u001b[36mFile \u001b[39m\u001b[32m/opt/anaconda3/envs/predictive/lib/python3.11/site-packages/shap/utils/_clustering.py:12\u001b[39m\n\u001b[32m     10\u001b[39m \u001b[38;5;28;01mimport\u001b[39;00m\u001b[38;5;250m \u001b[39m\u001b[34;01mscipy\u001b[39;00m\u001b[34;01m.\u001b[39;00m\u001b[34;01mspatial\u001b[39;00m\n\u001b[32m     11\u001b[39m \u001b[38;5;28;01mimport\u001b[39;00m\u001b[38;5;250m \u001b[39m\u001b[34;01msklearn\u001b[39;00m\n\u001b[32m---> \u001b[39m\u001b[32m12\u001b[39m \u001b[38;5;28;01mfrom\u001b[39;00m\u001b[38;5;250m \u001b[39m\u001b[34;01mnumba\u001b[39;00m\u001b[38;5;250m \u001b[39m\u001b[38;5;28;01mimport\u001b[39;00m njit\n\u001b[32m     14\u001b[39m \u001b[38;5;28;01mfrom\u001b[39;00m\u001b[38;5;250m \u001b[39m\u001b[34;01m.\u001b[39;00m\u001b[34;01m.\u001b[39;00m\u001b[34;01mutils\u001b[39;00m\u001b[34;01m.\u001b[39;00m\u001b[34;01m_exceptions\u001b[39;00m\u001b[38;5;250m \u001b[39m\u001b[38;5;28;01mimport\u001b[39;00m DimensionError\n\u001b[32m     15\u001b[39m \u001b[38;5;28;01mfrom\u001b[39;00m\u001b[38;5;250m \u001b[39m\u001b[34;01m.\u001b[39;00m\u001b[34;01m_show_progress\u001b[39;00m\u001b[38;5;250m \u001b[39m\u001b[38;5;28;01mimport\u001b[39;00m show_progress\n",
      "\u001b[36mFile \u001b[39m\u001b[32m/opt/anaconda3/envs/predictive/lib/python3.11/site-packages/numba/__init__.py:59\u001b[39m\n\u001b[32m     54\u001b[39m             msg = (\u001b[33m\"\u001b[39m\u001b[33mNumba requires SciPy version 1.0 or greater. Got SciPy \u001b[39m\u001b[33m\"\u001b[39m\n\u001b[32m     55\u001b[39m                    \u001b[33mf\u001b[39m\u001b[33m\"\u001b[39m\u001b[38;5;132;01m{\u001b[39;00mscipy.__version__\u001b[38;5;132;01m}\u001b[39;00m\u001b[33m.\u001b[39m\u001b[33m\"\u001b[39m)\n\u001b[32m     56\u001b[39m             \u001b[38;5;28;01mraise\u001b[39;00m \u001b[38;5;167;01mImportError\u001b[39;00m(msg)\n\u001b[32m---> \u001b[39m\u001b[32m59\u001b[39m \u001b[43m_ensure_critical_deps\u001b[49m\u001b[43m(\u001b[49m\u001b[43m)\u001b[49m\n\u001b[32m     60\u001b[39m \u001b[38;5;66;03m# END DO NOT MOVE\u001b[39;00m\n\u001b[32m     61\u001b[39m \u001b[38;5;66;03m# ---------------------- WARNING WARNING WARNING ----------------------------\u001b[39;00m\n\u001b[32m     64\u001b[39m \u001b[38;5;28;01mfrom\u001b[39;00m\u001b[38;5;250m \u001b[39m\u001b[34;01m.\u001b[39;00m\u001b[34;01m_version\u001b[39;00m\u001b[38;5;250m \u001b[39m\u001b[38;5;28;01mimport\u001b[39;00m get_versions\n",
      "\u001b[36mFile \u001b[39m\u001b[32m/opt/anaconda3/envs/predictive/lib/python3.11/site-packages/numba/__init__.py:45\u001b[39m, in \u001b[36m_ensure_critical_deps\u001b[39m\u001b[34m()\u001b[39m\n\u001b[32m     42\u001b[39m \u001b[38;5;28;01mif\u001b[39;00m numpy_version > (\u001b[32m2\u001b[39m, \u001b[32m2\u001b[39m):\n\u001b[32m     43\u001b[39m     msg = (\u001b[33mf\u001b[39m\u001b[33m\"\u001b[39m\u001b[33mNumba needs NumPy 2.2 or less. Got NumPy \u001b[39m\u001b[33m\"\u001b[39m\n\u001b[32m     44\u001b[39m            \u001b[33mf\u001b[39m\u001b[33m\"\u001b[39m\u001b[38;5;132;01m{\u001b[39;00mnumpy_version[\u001b[32m0\u001b[39m]\u001b[38;5;132;01m}\u001b[39;00m\u001b[33m.\u001b[39m\u001b[38;5;132;01m{\u001b[39;00mnumpy_version[\u001b[32m1\u001b[39m]\u001b[38;5;132;01m}\u001b[39;00m\u001b[33m.\u001b[39m\u001b[33m\"\u001b[39m)\n\u001b[32m---> \u001b[39m\u001b[32m45\u001b[39m     \u001b[38;5;28;01mraise\u001b[39;00m \u001b[38;5;167;01mImportError\u001b[39;00m(msg)\n\u001b[32m     47\u001b[39m \u001b[38;5;28;01mtry\u001b[39;00m:\n\u001b[32m     48\u001b[39m     \u001b[38;5;28;01mimport\u001b[39;00m\u001b[38;5;250m \u001b[39m\u001b[34;01mscipy\u001b[39;00m\n",
      "\u001b[31mImportError\u001b[39m: Numba needs NumPy 2.2 or less. Got NumPy 2.3."
     ]
    }
   ],
   "source": [
    "#!pip install shap   # Install SHAP library if not already installed\n",
    "import shap          \n",
    "\n",
    "# Create SHAP explainer for tree-based models (e.g., XGBoost, LightGBM, RandomForest)\n",
    "explainer   = shap.TreeExplainer(best_xgb)\n",
    "\n",
    "# Compute SHAP values for the training set\n",
    "# Each value shows how much a feature pushes a prediction toward class 1 (positive) or class 0 (negative)\n",
    "shap_values = explainer.shap_values(X_train)\n",
    "\n",
    "# Overall PLot Beeswarm plot: this shows both which features matter most and the direction of their influence\n",
    "\n",
    "shap.summary_plot(shap_values, X_train, max_display=15, show=True)"
   ]
  },
  {
   "cell_type": "code",
   "execution_count": null,
   "id": "eae229b8",
   "metadata": {},
   "outputs": [],
   "source": []
  },
  {
   "cell_type": "code",
   "execution_count": null,
   "id": "b9fb051b",
   "metadata": {},
   "outputs": [],
   "source": []
  }
 ],
 "metadata": {
  "kernelspec": {
   "display_name": "base",
   "language": "python",
   "name": "python3"
  },
  "language_info": {
   "codemirror_mode": {
    "name": "ipython",
    "version": 3
   },
   "file_extension": ".py",
   "mimetype": "text/x-python",
   "name": "python",
   "nbconvert_exporter": "python",
   "pygments_lexer": "ipython3",
   "version": "3.12.2"
  }
 },
 "nbformat": 4,
 "nbformat_minor": 5
}
